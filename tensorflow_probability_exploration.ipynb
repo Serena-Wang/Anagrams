{
  "nbformat": 4,
  "nbformat_minor": 0,
  "metadata": {
    "colab": {
      "name": "tensorflow probability exploration.ipynb",
      "provenance": [],
      "collapsed_sections": [],
      "include_colab_link": true
    },
    "kernelspec": {
      "name": "python3",
      "display_name": "Python 3"
    }
  },
  "cells": [
    {
      "cell_type": "markdown",
      "metadata": {
        "id": "view-in-github",
        "colab_type": "text"
      },
      "source": [
        "<a href=\"https://colab.research.google.com/github/Serena-Wang/Anagrams/blob/master/tensorflow_probability_exploration.ipynb\" target=\"_parent\"><img src=\"https://colab.research.google.com/assets/colab-badge.svg\" alt=\"Open In Colab\"/></a>"
      ]
    },
    {
      "cell_type": "code",
      "metadata": {
        "id": "g7Lo2SlI2_QG",
        "colab_type": "code",
        "outputId": "52ef6333-e8b7-4d3e-c77e-266bf7dcbf39",
        "colab": {
          "base_uri": "https://localhost:8080/",
          "height": 34
        }
      },
      "source": [
        "import numpy as np\n",
        "\n",
        "%tensorflow_version 2.x\n",
        "import tensorflow as tf\n",
        "import tensorflow_probability as tfp"
      ],
      "execution_count": 1,
      "outputs": [
        {
          "output_type": "stream",
          "text": [
            "TensorFlow 2.x selected.\n"
          ],
          "name": "stdout"
        }
      ]
    },
    {
      "cell_type": "code",
      "metadata": {
        "id": "bB50uSsX43VX",
        "colab_type": "code",
        "outputId": "c1f33f2b-6dcc-4365-8987-c638588e389d",
        "colab": {
          "base_uri": "https://localhost:8080/",
          "height": 68
        }
      },
      "source": [
        "# Suppose `SomeKernel` acts on vectors (rank-1 tensors)\n",
        "scalar_kernel = tfp.math.psd_kernels.ExponentiatedQuadratic(\n",
        "    amplitude=0.5,\n",
        "    length_scale=1.2)\n",
        "scalar_kernel.batch_shape\n",
        "# ==> []\n",
        "\n",
        "# `x` and `y` are batches of five 2-D vectors:\n",
        "np.random.seed(84963)\n",
        "x = np.random.standard_normal((5, 2))\n",
        "y = np.random.standard_normal((5, 2))\n",
        "scalar_kernel.apply(x, y)#.shape\n",
        "# ==> [5]\n"
      ],
      "execution_count": 0,
      "outputs": [
        {
          "output_type": "execute_result",
          "data": {
            "text/plain": [
              "<tf.Tensor: shape=(5,), dtype=float32, numpy=\n",
              "array([0.17942807, 0.10982524, 0.10400961, 0.0548934 , 0.18378305],\n",
              "      dtype=float32)>"
            ]
          },
          "metadata": {
            "tags": []
          },
          "execution_count": 2
        }
      ]
    },
    {
      "cell_type": "code",
      "metadata": {
        "id": "9992LV0Z4dUP",
        "colab_type": "code",
        "outputId": "86f64cff-862d-402a-f4fb-fad88afd8d5f",
        "colab": {
          "base_uri": "https://localhost:8080/",
          "height": 85
        }
      },
      "source": [
        "batch_kernel = tfp.math.psd_kernels.ExponentiatedQuadratic(\n",
        "    amplitude=[.5, 0.2],\n",
        "    length_scale=[1.2, 1.7])\n",
        "\n",
        "batch_kernel.batch_shape\n",
        "# ==> []\n",
        "\n",
        "# `x` and `y` are batches of five 2-D vectors:\n",
        "np.random.seed(84963)\n",
        "x = np.random.standard_normal((5, 2))\n",
        "y = np.random.standard_normal((5, 2))\n",
        "batch_kernel.apply(x, y, example_ndims=1)"
      ],
      "execution_count": 0,
      "outputs": [
        {
          "output_type": "execute_result",
          "data": {
            "text/plain": [
              "<tf.Tensor: shape=(2, 5), dtype=float32, numpy=\n",
              "array([[0.17942807, 0.10982524, 0.10400961, 0.0548934 , 0.18378305],\n",
              "       [0.03390661, 0.02654967, 0.02583959, 0.0187927 , 0.0343142 ]],\n",
              "      dtype=float32)>"
            ]
          },
          "metadata": {
            "tags": []
          },
          "execution_count": 3
        }
      ]
    },
    {
      "cell_type": "code",
      "metadata": {
        "id": "5F7J7aDN6LKw",
        "colab_type": "code",
        "outputId": "7798054c-4901-437a-b5bd-a22df4bc5f33",
        "colab": {
          "base_uri": "https://localhost:8080/",
          "height": 187
        }
      },
      "source": [
        "np.random.seed(84963)\n",
        "x = np.concatenate(\n",
        "  (np.array([0, 0, 0, 1, 1]).reshape((5, 1)), np.linspace(1, 5, 5).reshape((5, 1))),\n",
        "  axis = 1\n",
        ")\n",
        "y = np.concatenate(\n",
        "  (np.array([0, 1, 1, 1, 2]).reshape((5, 1)), np.linspace(1, 2, 5).reshape((5, 1))),\n",
        "  axis = 1\n",
        ")\n",
        "\n",
        "print(x)\n",
        "print(y)"
      ],
      "execution_count": 2,
      "outputs": [
        {
          "output_type": "stream",
          "text": [
            "[[0. 1.]\n",
            " [0. 2.]\n",
            " [0. 3.]\n",
            " [1. 4.]\n",
            " [1. 5.]]\n",
            "[[0.   1.  ]\n",
            " [1.   1.25]\n",
            " [1.   1.5 ]\n",
            " [1.   1.75]\n",
            " [2.   2.  ]]\n"
          ],
          "name": "stdout"
        }
      ]
    },
    {
      "cell_type": "code",
      "metadata": {
        "id": "JPfNGxut8zHQ",
        "colab_type": "code",
        "outputId": "940e9cdf-90b1-4895-a0bf-0956b1e784f3",
        "colab": {
          "base_uri": "https://localhost:8080/",
          "height": 34
        }
      },
      "source": [
        "k = tfp.math.psd_kernels.ExponentiatedQuadratic(\n",
        "    amplitude=0.5,\n",
        "    length_scale=1.2)\n",
        "\n",
        "k_s = tfp.math.psd_kernels.ExponentiatedQuadratic(\n",
        "    amplitude=0.7,\n",
        "    length_scale=1.7)\n",
        "\n",
        "result = k.apply(x[:,1:], y[:,1:], example_ndims=1)\n",
        "result_s = k_s.apply(x[:,1:], y[:,1:], example_ndims=1)\n",
        "inds = tf.where(x[:, 0] == y[:, 0])#[0].tolist()\n",
        "\n",
        "print(result.get_shape())"
      ],
      "execution_count": 0,
      "outputs": [
        {
          "output_type": "stream",
          "text": [
            "(5,)\n"
          ],
          "name": "stdout"
        }
      ]
    },
    {
      "cell_type": "code",
      "metadata": {
        "id": "aVsqXSt68UEH",
        "colab_type": "code",
        "outputId": "e455a614-b20d-44c6-d765-eb206c095310",
        "colab": {
          "base_uri": "https://localhost:8080/",
          "height": 68
        }
      },
      "source": [
        "inds"
      ],
      "execution_count": 0,
      "outputs": [
        {
          "output_type": "execute_result",
          "data": {
            "text/plain": [
              "<tf.Tensor: shape=(2, 1), dtype=int64, numpy=\n",
              "array([[0],\n",
              "       [3]])>"
            ]
          },
          "metadata": {
            "tags": []
          },
          "execution_count": 64
        }
      ]
    },
    {
      "cell_type": "code",
      "metadata": {
        "id": "5V5Q94fT8Zzp",
        "colab_type": "code",
        "outputId": "8bad8e92-95a7-46c0-feda-189c238c9b98",
        "colab": {
          "base_uri": "https://localhost:8080/",
          "height": 34
        }
      },
      "source": [
        "shape"
      ],
      "execution_count": 0,
      "outputs": [
        {
          "output_type": "execute_result",
          "data": {
            "text/plain": [
              "TensorShape([5])"
            ]
          },
          "metadata": {
            "tags": []
          },
          "execution_count": 54
        }
      ]
    },
    {
      "cell_type": "code",
      "metadata": {
        "id": "BF43Co6M8XOY",
        "colab_type": "code",
        "outputId": "993f7843-5b63-4f6e-c42f-393cfe31d47a",
        "colab": {
          "base_uri": "https://localhost:8080/",
          "height": 51
        }
      },
      "source": [
        "shape = result.get_shape()  # Should get this from result shape\n",
        "\n",
        "delta = tf.SparseTensor(inds, tf.gather_nd(result_s, inds), shape)\n",
        "print(tf.sparse.to_dense(delta))\n",
        "final_result = result + tf.sparse.to_dense(delta)\n",
        "print(final_result)"
      ],
      "execution_count": 0,
      "outputs": [
        {
          "output_type": "stream",
          "text": [
            "tf.Tensor([0.48999998 0.         0.         0.20408575 0.        ], shape=(5,), dtype=float32)\n",
            "tf.Tensor([0.74       0.20564438 0.11445834 0.24719116 0.01098423], shape=(5,), dtype=float32)\n"
          ],
          "name": "stdout"
        }
      ]
    },
    {
      "cell_type": "code",
      "metadata": {
        "id": "kNgHMtKE8iAw",
        "colab_type": "code",
        "outputId": "2f88d805-e29a-44a6-87e4-11abad327609",
        "colab": {
          "base_uri": "https://localhost:8080/",
          "height": 34
        }
      },
      "source": [
        "delta.get_shape()"
      ],
      "execution_count": 0,
      "outputs": [
        {
          "output_type": "execute_result",
          "data": {
            "text/plain": [
              "TensorShape([5])"
            ]
          },
          "metadata": {
            "tags": []
          },
          "execution_count": 56
        }
      ]
    },
    {
      "cell_type": "code",
      "metadata": {
        "id": "lSPl5om9BQUg",
        "colab_type": "code",
        "outputId": "2b7dbc51-b7ee-43d1-b197-159a9db764aa",
        "colab": {
          "base_uri": "https://localhost:8080/",
          "height": 34
        }
      },
      "source": [
        "k = tfp.math.psd_kernels.ExponentiatedQuadratic(\n",
        "    amplitude=[0.5, 0.7],\n",
        "    length_scale=[1.2, 2.4])\n",
        "\n",
        "k_s = tfp.math.psd_kernels.ExponentiatedQuadratic(\n",
        "    amplitude=[0.7, 1.2],\n",
        "    length_scale=[1.7, 1.3])\n",
        "\n",
        "result = k.apply(x[:,1:], y[:,1:], example_ndims=1)\n",
        "result_s = k_s.apply(x[:,1:], y[:,1:], example_ndims=1)\n",
        "inds = tf.where(x[:, 0] == y[:, 0])#[0].tolist()\n",
        "\n",
        "print(result.get_shape())"
      ],
      "execution_count": 0,
      "outputs": [
        {
          "output_type": "stream",
          "text": [
            "(2, 5)\n"
          ],
          "name": "stdout"
        }
      ]
    },
    {
      "cell_type": "code",
      "metadata": {
        "id": "OxV_Ew4UNrZj",
        "colab_type": "code",
        "outputId": "2fb1b9f0-d69b-4d86-aa74-cbb8f551c1c6",
        "colab": {
          "base_uri": "https://localhost:8080/",
          "height": 232
        }
      },
      "source": [
        "shape = result.get_shape()  # Should get this from result shape\n",
        "\n",
        "delta = tf.SparseTensor(inds, tf.gather_nd(result_s, inds), shape)\n",
        "print(tf.sparse.to_dense(delta))\n",
        "final_result = result + tf.sparse.to_dense(delta)\n",
        "print(final_result)"
      ],
      "execution_count": 0,
      "outputs": [
        {
          "output_type": "error",
          "ename": "NameError",
          "evalue": "ignored",
          "traceback": [
            "\u001b[0;31m---------------------------------------------------------------------------\u001b[0m",
            "\u001b[0;31mNameError\u001b[0m                                 Traceback (most recent call last)",
            "\u001b[0;32m<ipython-input-1-c52d5b6e6065>\u001b[0m in \u001b[0;36m<module>\u001b[0;34m()\u001b[0m\n\u001b[0;32m----> 1\u001b[0;31m \u001b[0mshape\u001b[0m \u001b[0;34m=\u001b[0m \u001b[0mresult\u001b[0m\u001b[0;34m.\u001b[0m\u001b[0mget_shape\u001b[0m\u001b[0;34m(\u001b[0m\u001b[0;34m)\u001b[0m  \u001b[0;31m# Should get this from result shape\u001b[0m\u001b[0;34m\u001b[0m\u001b[0;34m\u001b[0m\u001b[0m\n\u001b[0m\u001b[1;32m      2\u001b[0m \u001b[0;34m\u001b[0m\u001b[0m\n\u001b[1;32m      3\u001b[0m \u001b[0mdelta\u001b[0m \u001b[0;34m=\u001b[0m \u001b[0mtf\u001b[0m\u001b[0;34m.\u001b[0m\u001b[0mSparseTensor\u001b[0m\u001b[0;34m(\u001b[0m\u001b[0minds\u001b[0m\u001b[0;34m,\u001b[0m \u001b[0mtf\u001b[0m\u001b[0;34m.\u001b[0m\u001b[0mgather_nd\u001b[0m\u001b[0;34m(\u001b[0m\u001b[0mresult_s\u001b[0m\u001b[0;34m,\u001b[0m \u001b[0minds\u001b[0m\u001b[0;34m)\u001b[0m\u001b[0;34m,\u001b[0m \u001b[0mshape\u001b[0m\u001b[0;34m)\u001b[0m\u001b[0;34m\u001b[0m\u001b[0;34m\u001b[0m\u001b[0m\n\u001b[1;32m      4\u001b[0m \u001b[0mprint\u001b[0m\u001b[0;34m(\u001b[0m\u001b[0mtf\u001b[0m\u001b[0;34m.\u001b[0m\u001b[0msparse\u001b[0m\u001b[0;34m.\u001b[0m\u001b[0mto_dense\u001b[0m\u001b[0;34m(\u001b[0m\u001b[0mdelta\u001b[0m\u001b[0;34m)\u001b[0m\u001b[0;34m)\u001b[0m\u001b[0;34m\u001b[0m\u001b[0;34m\u001b[0m\u001b[0m\n\u001b[1;32m      5\u001b[0m \u001b[0mfinal_result\u001b[0m \u001b[0;34m=\u001b[0m \u001b[0mresult\u001b[0m \u001b[0;34m+\u001b[0m \u001b[0mtf\u001b[0m\u001b[0;34m.\u001b[0m\u001b[0msparse\u001b[0m\u001b[0;34m.\u001b[0m\u001b[0mto_dense\u001b[0m\u001b[0;34m(\u001b[0m\u001b[0mdelta\u001b[0m\u001b[0;34m)\u001b[0m\u001b[0;34m\u001b[0m\u001b[0;34m\u001b[0m\u001b[0m\n",
            "\u001b[0;31mNameError\u001b[0m: name 'result' is not defined"
          ]
        }
      ]
    },
    {
      "cell_type": "code",
      "metadata": {
        "id": "VyNwnvumPRlS",
        "colab_type": "code",
        "outputId": "ecd76ded-41ca-4c7d-ced6-f57636758c73",
        "colab": {
          "base_uri": "https://localhost:8080/",
          "height": 51
        }
      },
      "source": [
        "k = tfp.math.psd_kernels.ExponentiatedQuadratic(\n",
        "    amplitude=[[0.5, 0.7], [0.2, 0.3]],\n",
        "    length_scale=[1.2, 2.4])\n",
        "\n",
        "#k_s = tfp.math.psd_kernels.ExponentiatedQuadratic(\n",
        "#    amplitude=[0.7, 1.2],\n",
        "#    length_scale=[1.7, 1.3])\n",
        "\n",
        "k_s = tfp.math.psd_kernels.ExponentiatedQuadratic(\n",
        "    amplitude=[[0.5, 0.7], [0.2, 0.3]],\n",
        "    length_scale=[1.7, 1.3])\n",
        "\n",
        "result = k.apply(x[:,1:], y[:,1:], example_ndims=1)\n",
        "result_s = k_s.apply(x[:,1:], y[:,1:], example_ndims=1)\n",
        "inds = tf.where(x[:, 0] == y[:, 0])#[0].tolist()\n",
        "inds1 = tf.reshape(inds, (tf.shape(inds)[0],))\n",
        "\n",
        "print(result.get_shape())\n",
        "print(result_s.get_shape())"
      ],
      "execution_count": 87,
      "outputs": [
        {
          "output_type": "stream",
          "text": [
            "(2, 2, 5)\n",
            "(2, 2, 5)\n"
          ],
          "name": "stdout"
        }
      ]
    },
    {
      "cell_type": "code",
      "metadata": {
        "id": "2AyrmDpjZQ5-",
        "colab_type": "code",
        "colab": {}
      },
      "source": [
        "x_season_broadcast = tf.broadcast_to(x[:, 0], [2, 2, 5])\n",
        "y_season_broadcast = tf.broadcast_to(y[:, 0], [2, 2, 5])\n",
        "inds2 = tf.where(x_season_broadcast == y_season_broadcast)"
      ],
      "execution_count": 0,
      "outputs": []
    },
    {
      "cell_type": "code",
      "metadata": {
        "id": "Js6Fx5go6nRG",
        "colab_type": "code",
        "outputId": "27b327cb-12b3-4716-9eaf-a011aed02313",
        "colab": {
          "base_uri": "https://localhost:8080/",
          "height": 170
        }
      },
      "source": [
        "inds2"
      ],
      "execution_count": 89,
      "outputs": [
        {
          "output_type": "execute_result",
          "data": {
            "text/plain": [
              "<tf.Tensor: shape=(8, 3), dtype=int64, numpy=\n",
              "array([[0, 0, 0],\n",
              "       [0, 0, 3],\n",
              "       [0, 1, 0],\n",
              "       [0, 1, 3],\n",
              "       [1, 0, 0],\n",
              "       [1, 0, 3],\n",
              "       [1, 1, 0],\n",
              "       [1, 1, 3]])>"
            ]
          },
          "metadata": {
            "tags": []
          },
          "execution_count": 89
        }
      ]
    },
    {
      "cell_type": "code",
      "metadata": {
        "id": "AHXnRNhZfBPv",
        "colab_type": "code",
        "outputId": "b4e9fa96-779d-4754-8773-e288769f9ae1",
        "colab": {
          "base_uri": "https://localhost:8080/",
          "height": 136
        }
      },
      "source": [
        "result"
      ],
      "execution_count": 90,
      "outputs": [
        {
          "output_type": "execute_result",
          "data": {
            "text/plain": [
              "<tf.Tensor: shape=(2, 2, 5), dtype=float32, numpy=\n",
              "array([[[0.25      , 0.2056444 , 0.11445834, 0.0431054 , 0.01098423],\n",
              "        [0.48999998, 0.46664894, 0.403063  , 0.31575045, 0.22433837]],\n",
              "\n",
              "       [[0.04      , 0.0329031 , 0.01831333, 0.00689686, 0.00175748],\n",
              "        [0.09      , 0.08571103, 0.07403198, 0.05799498, 0.041205  ]]],\n",
              "      dtype=float32)>"
            ]
          },
          "metadata": {
            "tags": []
          },
          "execution_count": 90
        }
      ]
    },
    {
      "cell_type": "code",
      "metadata": {
        "id": "jhKeqd2VfDN-",
        "colab_type": "code",
        "outputId": "25b0cfa4-09c8-4cab-9a5a-85375e9d8f05",
        "colab": {
          "base_uri": "https://localhost:8080/",
          "height": 136
        }
      },
      "source": [
        "result_s"
      ],
      "execution_count": 91,
      "outputs": [
        {
          "output_type": "execute_result",
          "data": {
            "text/plain": [
              "<tf.Tensor: shape=(2, 2, 5), dtype=float32, numpy=\n",
              "array([[[0.25      , 0.2268168 , 0.16938725, 0.1041254 , 0.05268694],\n",
              "        [0.48999998, 0.4148783 , 0.2518226 , 0.10957664, 0.03418146]],\n",
              "\n",
              "       [[0.04      , 0.03629068, 0.02710196, 0.01666006, 0.00842991],\n",
              "        [0.09      , 0.07620213, 0.04625313, 0.02012632, 0.00627823]]],\n",
              "      dtype=float32)>"
            ]
          },
          "metadata": {
            "tags": []
          },
          "execution_count": 91
        }
      ]
    },
    {
      "cell_type": "code",
      "metadata": {
        "id": "WSLswHRSBg66",
        "colab_type": "code",
        "colab": {
          "base_uri": "https://localhost:8080/",
          "height": 272
        },
        "outputId": "7c2fd0c3-bd5e-4e08-fe83-7e5e44590611"
      },
      "source": [
        "#result=tf.transpose(result)\n",
        "result"
      ],
      "execution_count": 64,
      "outputs": [
        {
          "output_type": "execute_result",
          "data": {
            "text/plain": [
              "<tf.Tensor: shape=(5, 2, 2), dtype=float32, numpy=\n",
              "array([[[0.25      , 0.04      ],\n",
              "        [0.48999998, 0.09      ]],\n",
              "\n",
              "       [[0.2056444 , 0.0329031 ],\n",
              "        [0.46664894, 0.08571103]],\n",
              "\n",
              "       [[0.11445834, 0.01831333],\n",
              "        [0.403063  , 0.07403198]],\n",
              "\n",
              "       [[0.0431054 , 0.00689686],\n",
              "        [0.31575045, 0.05799498]],\n",
              "\n",
              "       [[0.01098423, 0.00175748],\n",
              "        [0.22433837, 0.041205  ]]], dtype=float32)>"
            ]
          },
          "metadata": {
            "tags": []
          },
          "execution_count": 64
        }
      ]
    },
    {
      "cell_type": "code",
      "metadata": {
        "id": "wCB-tIGfB4NQ",
        "colab_type": "code",
        "colab": {
          "base_uri": "https://localhost:8080/",
          "height": 272
        },
        "outputId": "f799159f-0990-4e14-b8c2-29a0b9b9d919"
      },
      "source": [
        "result"
      ],
      "execution_count": 50,
      "outputs": [
        {
          "output_type": "execute_result",
          "data": {
            "text/plain": [
              "<tf.Tensor: shape=(5, 2, 2), dtype=float32, numpy=\n",
              "array([[[0.25      , 0.04      ],\n",
              "        [0.48999998, 0.09      ]],\n",
              "\n",
              "       [[0.2056444 , 0.0329031 ],\n",
              "        [0.46664894, 0.08571103]],\n",
              "\n",
              "       [[0.11445834, 0.01831333],\n",
              "        [0.403063  , 0.07403198]],\n",
              "\n",
              "       [[0.0431054 , 0.00689686],\n",
              "        [0.31575045, 0.05799498]],\n",
              "\n",
              "       [[0.01098423, 0.00175748],\n",
              "        [0.22433837, 0.041205  ]]], dtype=float32)>"
            ]
          },
          "metadata": {
            "tags": []
          },
          "execution_count": 50
        }
      ]
    },
    {
      "cell_type": "code",
      "metadata": {
        "id": "b9vBkV9wBRfV",
        "colab_type": "code",
        "colab": {
          "base_uri": "https://localhost:8080/",
          "height": 272
        },
        "outputId": "320fac31-9245-4c27-8a24-60abbbbf1906"
      },
      "source": [
        "#result_s=tf.transpose(result_s)\n",
        "result_s"
      ],
      "execution_count": 65,
      "outputs": [
        {
          "output_type": "execute_result",
          "data": {
            "text/plain": [
              "<tf.Tensor: shape=(5, 2, 2), dtype=float32, numpy=\n",
              "array([[[0.25      , 0.04      ],\n",
              "        [0.48999998, 0.09      ]],\n",
              "\n",
              "       [[0.2268168 , 0.03629068],\n",
              "        [0.4148783 , 0.07620213]],\n",
              "\n",
              "       [[0.16938725, 0.02710196],\n",
              "        [0.2518226 , 0.04625313]],\n",
              "\n",
              "       [[0.1041254 , 0.01666006],\n",
              "        [0.10957664, 0.02012632]],\n",
              "\n",
              "       [[0.05268694, 0.00842991],\n",
              "        [0.03418146, 0.00627823]]], dtype=float32)>"
            ]
          },
          "metadata": {
            "tags": []
          },
          "execution_count": 65
        }
      ]
    },
    {
      "cell_type": "code",
      "metadata": {
        "id": "fYnkPipcdb_M",
        "colab_type": "code",
        "outputId": "4634f5da-876c-4755-bb74-c6e978a0a81b",
        "colab": {
          "base_uri": "https://localhost:8080/",
          "height": 68
        }
      },
      "source": [
        "inds"
      ],
      "execution_count": 0,
      "outputs": [
        {
          "output_type": "execute_result",
          "data": {
            "text/plain": [
              "<tf.Tensor: shape=(2, 1), dtype=int64, numpy=\n",
              "array([[0],\n",
              "       [3]])>"
            ]
          },
          "metadata": {
            "tags": []
          },
          "execution_count": 87
        }
      ]
    },
    {
      "cell_type": "code",
      "metadata": {
        "id": "s9DbAj216HkY",
        "colab_type": "code",
        "colab": {}
      },
      "source": [
        ""
      ],
      "execution_count": 0,
      "outputs": []
    },
    {
      "cell_type": "code",
      "metadata": {
        "id": "0Bzk97todzCl",
        "colab_type": "code",
        "colab": {}
      },
      "source": [
        "t=tf.gather(result_s, inds,axis=-1)"
      ],
      "execution_count": 0,
      "outputs": []
    },
    {
      "cell_type": "code",
      "metadata": {
        "id": "TdOW-FDHukyt",
        "colab_type": "code",
        "outputId": "7aea1cc7-963c-4753-d20d-28eaea13caf5",
        "colab": {
          "base_uri": "https://localhost:8080/",
          "height": 238
        }
      },
      "source": [
        "t"
      ],
      "execution_count": 99,
      "outputs": [
        {
          "output_type": "execute_result",
          "data": {
            "text/plain": [
              "<tf.Tensor: shape=(2, 2, 2, 1), dtype=float32, numpy=\n",
              "array([[[[0.25      ],\n",
              "         [0.1041254 ]],\n",
              "\n",
              "        [[0.48999998],\n",
              "         [0.10957664]]],\n",
              "\n",
              "\n",
              "       [[[0.04      ],\n",
              "         [0.01666006]],\n",
              "\n",
              "        [[0.09      ],\n",
              "         [0.02012632]]]], dtype=float32)>"
            ]
          },
          "metadata": {
            "tags": []
          },
          "execution_count": 99
        }
      ]
    },
    {
      "cell_type": "code",
      "metadata": {
        "id": "loaF4Tsm_F-2",
        "colab_type": "code",
        "colab": {}
      },
      "source": [
        "t=tf.reshape(t, [-1])"
      ],
      "execution_count": 0,
      "outputs": []
    },
    {
      "cell_type": "code",
      "metadata": {
        "id": "VJtccrhMCGOS",
        "colab_type": "code",
        "outputId": "729857c8-4f49-4456-e63e-79153823e8df",
        "colab": {
          "base_uri": "https://localhost:8080/",
          "height": 68
        }
      },
      "source": [
        "t"
      ],
      "execution_count": 101,
      "outputs": [
        {
          "output_type": "execute_result",
          "data": {
            "text/plain": [
              "<tf.Tensor: shape=(8,), dtype=float32, numpy=\n",
              "array([0.25      , 0.1041254 , 0.48999998, 0.10957664, 0.04      ,\n",
              "       0.01666006, 0.09      , 0.02012632], dtype=float32)>"
            ]
          },
          "metadata": {
            "tags": []
          },
          "execution_count": 101
        }
      ]
    },
    {
      "cell_type": "code",
      "metadata": {
        "id": "BSBIiJZw7o6I",
        "colab_type": "code",
        "outputId": "d51ed2d8-db9b-429d-c987-a1ec99c5e797",
        "colab": {
          "base_uri": "https://localhost:8080/",
          "height": 34
        }
      },
      "source": [
        "result.get_shape()"
      ],
      "execution_count": 39,
      "outputs": [
        {
          "output_type": "execute_result",
          "data": {
            "text/plain": [
              "TensorShape([2, 2, 5])"
            ]
          },
          "metadata": {
            "tags": []
          },
          "execution_count": 39
        }
      ]
    },
    {
      "cell_type": "code",
      "metadata": {
        "id": "6xe2i-LqB2ce",
        "colab_type": "code",
        "outputId": "e568ecb6-aef1-46e3-87aa-30ff38faf859",
        "colab": {
          "base_uri": "https://localhost:8080/",
          "height": 68
        }
      },
      "source": [
        "inds"
      ],
      "execution_count": 27,
      "outputs": [
        {
          "output_type": "execute_result",
          "data": {
            "text/plain": [
              "<tf.Tensor: shape=(2, 1), dtype=int64, numpy=\n",
              "array([[0],\n",
              "       [3]])>"
            ]
          },
          "metadata": {
            "tags": []
          },
          "execution_count": 27
        }
      ]
    },
    {
      "cell_type": "code",
      "metadata": {
        "id": "sva0JbXbf8nc",
        "colab_type": "code",
        "colab": {}
      },
      "source": [
        "shape = result.get_shape()\n",
        "\n",
        "delta=tf.SparseTensor(inds2, t, shape)"
      ],
      "execution_count": 0,
      "outputs": []
    },
    {
      "cell_type": "code",
      "metadata": {
        "id": "Ysx1ngHICP_H",
        "colab_type": "code",
        "outputId": "d4d88cfb-72fd-4acf-99cb-a3a5ef9db73e",
        "colab": {
          "base_uri": "https://localhost:8080/",
          "height": 119
        }
      },
      "source": [
        "print(tf.sparse.to_dense(delta))"
      ],
      "execution_count": 103,
      "outputs": [
        {
          "output_type": "stream",
          "text": [
            "tf.Tensor(\n",
            "[[[0.25       0.         0.         0.1041254  0.        ]\n",
            "  [0.48999998 0.         0.         0.10957664 0.        ]]\n",
            "\n",
            " [[0.04       0.         0.         0.01666006 0.        ]\n",
            "  [0.09       0.         0.         0.02012632 0.        ]]], shape=(2, 2, 5), dtype=float32)\n"
          ],
          "name": "stdout"
        }
      ]
    },
    {
      "cell_type": "markdown",
      "metadata": {
        "id": "j8zHMLJA8cgl",
        "colab_type": "text"
      },
      "source": [
        "k ((0.5, 0.7), (1.2,2.4)), ks((0.5,0.7),(1.7,3.1))"
      ]
    },
    {
      "cell_type": "code",
      "metadata": {
        "id": "lzHJkEHH8JwS",
        "colab_type": "code",
        "colab": {
          "base_uri": "https://localhost:8080/",
          "height": 51
        },
        "outputId": "fb1227fc-09e6-4196-e08c-9ea18e016686"
      },
      "source": [
        "k = tfp.math.psd_kernels.ExponentiatedQuadratic(\n",
        "    amplitude=[0.2, 0.3],\n",
        "    length_scale=[1.2, 2.4])\n",
        "\n",
        "k_s = tfp.math.psd_kernels.ExponentiatedQuadratic(\n",
        "    amplitude=[0.2, 0.3],\n",
        "    length_scale=[1.7, 1.3])\n",
        "\n",
        "result = k.apply(x[:,1:], y[:,1:], example_ndims=1)\n",
        "result_s = k_s.apply(x[:,1:], y[:,1:], example_ndims=1)\n",
        "inds = tf.where(x[:, 0] == y[:, 0])#[0].tolist()\n",
        "\n",
        "print(result.get_shape())\n",
        "print(result_s.get_shape())"
      ],
      "execution_count": 51,
      "outputs": [
        {
          "output_type": "stream",
          "text": [
            "(2, 5)\n",
            "(2, 5)\n"
          ],
          "name": "stdout"
        }
      ]
    },
    {
      "cell_type": "code",
      "metadata": {
        "id": "aCHrqXs79I92",
        "colab_type": "code",
        "colab": {
          "base_uri": "https://localhost:8080/",
          "height": 85
        },
        "outputId": "42b8e7e2-b31c-43ec-ca94-8e58b8844b25"
      },
      "source": [
        "result"
      ],
      "execution_count": 13,
      "outputs": [
        {
          "output_type": "execute_result",
          "data": {
            "text/plain": [
              "<tf.Tensor: shape=(2, 5), dtype=float32, numpy=\n",
              "array([[0.04      , 0.0329031 , 0.01831333, 0.00689686, 0.00175748],\n",
              "       [0.09      , 0.08571103, 0.07403198, 0.05799498, 0.041205  ]],\n",
              "      dtype=float32)>"
            ]
          },
          "metadata": {
            "tags": []
          },
          "execution_count": 13
        }
      ]
    },
    {
      "cell_type": "code",
      "metadata": {
        "id": "89_5YkGp9MII",
        "colab_type": "code",
        "colab": {
          "base_uri": "https://localhost:8080/",
          "height": 119
        },
        "outputId": "2faf2425-e5c1-4c00-a904-4ef6ef5890dd"
      },
      "source": [
        "tf.transpose(result_s)"
      ],
      "execution_count": 52,
      "outputs": [
        {
          "output_type": "execute_result",
          "data": {
            "text/plain": [
              "<tf.Tensor: shape=(5, 2), dtype=float32, numpy=\n",
              "array([[0.04      , 0.09      ],\n",
              "       [0.03629068, 0.07620213],\n",
              "       [0.02710196, 0.04625314],\n",
              "       [0.01666006, 0.02012632],\n",
              "       [0.00842991, 0.00627823]], dtype=float32)>"
            ]
          },
          "metadata": {
            "tags": []
          },
          "execution_count": 52
        }
      ]
    },
    {
      "cell_type": "markdown",
      "metadata": {
        "id": "5dTgOB4x8Egk",
        "colab_type": "text"
      },
      "source": [
        "``````````````````````````````````"
      ]
    },
    {
      "cell_type": "code",
      "metadata": {
        "id": "zHTyX90BR3mq",
        "colab_type": "code",
        "colab": {}
      },
      "source": [
        "inds.numpy().squeeze().tolist()"
      ],
      "execution_count": 0,
      "outputs": []
    },
    {
      "cell_type": "code",
      "metadata": {
        "id": "JbNl7CkFPaXC",
        "colab_type": "code",
        "colab": {}
      },
      "source": [
        "result[:,:,0]"
      ],
      "execution_count": 0,
      "outputs": []
    },
    {
      "cell_type": "code",
      "metadata": {
        "id": "PD7EVWEBQIeT",
        "colab_type": "code",
        "colab": {}
      },
      "source": [
        "tf.gather_nd(result, inds[tf.newaxis, tf.newaxis, :, 0], batch_dims=2)"
      ],
      "execution_count": 0,
      "outputs": []
    },
    {
      "cell_type": "code",
      "metadata": {
        "id": "cOKn3_zaUXLR",
        "colab_type": "code",
        "outputId": "50ce3dba-73dd-43be-d7c0-34dad7bf7340",
        "colab": {
          "base_uri": "https://localhost:8080/",
          "height": 136
        }
      },
      "source": [
        "result"
      ],
      "execution_count": 0,
      "outputs": [
        {
          "output_type": "execute_result",
          "data": {
            "text/plain": [
              "<tf.Tensor: shape=(2, 2, 5), dtype=float32, numpy=\n",
              "array([[[0.25      , 0.2056444 , 0.11445834, 0.0431054 , 0.01098423],\n",
              "        [0.48999998, 0.46664894, 0.403063  , 0.31575045, 0.22433837]],\n",
              "\n",
              "       [[0.04      , 0.0329031 , 0.01831333, 0.00689686, 0.00175748],\n",
              "        [0.09      , 0.08571103, 0.07403198, 0.05799498, 0.041205  ]]],\n",
              "      dtype=float32)>"
            ]
          },
          "metadata": {
            "tags": []
          },
          "execution_count": 10
        }
      ]
    },
    {
      "cell_type": "code",
      "metadata": {
        "id": "Blali8cWVDvL",
        "colab_type": "code",
        "colab": {}
      },
      "source": [
        "inds[tf.newaxis, tf.newaxis, :, 0]"
      ],
      "execution_count": 0,
      "outputs": []
    },
    {
      "cell_type": "code",
      "metadata": {
        "id": "g0UtLdxJVmYl",
        "colab_type": "code",
        "colab": {}
      },
      "source": [
        "inds[:,0]"
      ],
      "execution_count": 0,
      "outputs": []
    },
    {
      "cell_type": "code",
      "metadata": {
        "id": "PR4aBqfkV5q1",
        "colab_type": "code",
        "colab": {}
      },
      "source": [
        "indices = [[tf.newaxis,tf.newaxis,0],[tf.newaxis,tf.newaxis,3]]\n",
        "tf.gather_nd(result,indices)"
      ],
      "execution_count": 0,
      "outputs": []
    }
  ]
}