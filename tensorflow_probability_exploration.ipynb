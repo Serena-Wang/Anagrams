{
  "nbformat": 4,
  "nbformat_minor": 0,
  "metadata": {
    "colab": {
      "name": "tensorflow probability exploration.ipynb",
      "provenance": [],
      "collapsed_sections": [],
      "include_colab_link": true
    },
    "kernelspec": {
      "name": "python3",
      "display_name": "Python 3"
    }
  },
  "cells": [
    {
      "cell_type": "markdown",
      "metadata": {
        "id": "view-in-github",
        "colab_type": "text"
      },
      "source": [
        "<a href=\"https://colab.research.google.com/github/Serena-Wang/Anagrams/blob/master/tensorflow_probability_exploration.ipynb\" target=\"_parent\"><img src=\"https://colab.research.google.com/assets/colab-badge.svg\" alt=\"Open In Colab\"/></a>"
      ]
    },
    {
      "cell_type": "code",
      "metadata": {
        "id": "g7Lo2SlI2_QG",
        "colab_type": "code",
        "outputId": "7c196ef9-b660-4981-fbf7-3137e7251ec0",
        "colab": {
          "base_uri": "https://localhost:8080/",
          "height": 34
        }
      },
      "source": [
        "import numpy as np\n",
        "\n",
        "%tensorflow_version 2.x\n",
        "import tensorflow as tf\n",
        "import tensorflow_probability as tfp"
      ],
      "execution_count": 3,
      "outputs": [
        {
          "output_type": "stream",
          "text": [
            "TensorFlow 2.x selected.\n"
          ],
          "name": "stdout"
        }
      ]
    },
    {
      "cell_type": "code",
      "metadata": {
        "id": "bB50uSsX43VX",
        "colab_type": "code",
        "outputId": "c1f33f2b-6dcc-4365-8987-c638588e389d",
        "colab": {
          "base_uri": "https://localhost:8080/",
          "height": 68
        }
      },
      "source": [
        "# Suppose `SomeKernel` acts on vectors (rank-1 tensors)\n",
        "scalar_kernel = tfp.math.psd_kernels.ExponentiatedQuadratic(\n",
        "    amplitude=0.5,\n",
        "    length_scale=1.2)\n",
        "scalar_kernel.batch_shape\n",
        "# ==> []\n",
        "\n",
        "# `x` and `y` are batches of five 2-D vectors:\n",
        "np.random.seed(84963)\n",
        "x = np.random.standard_normal((5, 2))\n",
        "y = np.random.standard_normal((5, 2))\n",
        "scalar_kernel.apply(x, y)#.shape\n",
        "# ==> [5]\n"
      ],
      "execution_count": 2,
      "outputs": [
        {
          "output_type": "execute_result",
          "data": {
            "text/plain": [
              "<tf.Tensor: shape=(5,), dtype=float32, numpy=\n",
              "array([0.17942807, 0.10982524, 0.10400961, 0.0548934 , 0.18378305],\n",
              "      dtype=float32)>"
            ]
          },
          "metadata": {
            "tags": []
          },
          "execution_count": 2
        }
      ]
    },
    {
      "cell_type": "code",
      "metadata": {
        "id": "9992LV0Z4dUP",
        "colab_type": "code",
        "outputId": "86f64cff-862d-402a-f4fb-fad88afd8d5f",
        "colab": {
          "base_uri": "https://localhost:8080/",
          "height": 85
        }
      },
      "source": [
        "batch_kernel = tfp.math.psd_kernels.ExponentiatedQuadratic(\n",
        "    amplitude=[.5, 0.2],\n",
        "    length_scale=[1.2, 1.7])\n",
        "\n",
        "batch_kernel.batch_shape\n",
        "# ==> []\n",
        "\n",
        "# `x` and `y` are batches of five 2-D vectors:\n",
        "np.random.seed(84963)\n",
        "x = np.random.standard_normal((5, 2))\n",
        "y = np.random.standard_normal((5, 2))\n",
        "batch_kernel.apply(x, y, example_ndims=1)"
      ],
      "execution_count": 3,
      "outputs": [
        {
          "output_type": "execute_result",
          "data": {
            "text/plain": [
              "<tf.Tensor: shape=(2, 5), dtype=float32, numpy=\n",
              "array([[0.17942807, 0.10982524, 0.10400961, 0.0548934 , 0.18378305],\n",
              "       [0.03390661, 0.02654967, 0.02583959, 0.0187927 , 0.0343142 ]],\n",
              "      dtype=float32)>"
            ]
          },
          "metadata": {
            "tags": []
          },
          "execution_count": 3
        }
      ]
    },
    {
      "cell_type": "code",
      "metadata": {
        "id": "5F7J7aDN6LKw",
        "colab_type": "code",
        "outputId": "ff7ff649-f222-4144-abed-5ff1fe798721",
        "colab": {
          "base_uri": "https://localhost:8080/",
          "height": 187
        }
      },
      "source": [
        "np.random.seed(84963)\n",
        "x = np.concatenate(\n",
        "  (np.array([0, 0, 0, 1, 1]).reshape((5, 1)), np.linspace(1, 5, 5).reshape((5, 1))),\n",
        "  axis = 1\n",
        ")\n",
        "y = np.concatenate(\n",
        "  (np.array([0, 1, 1, 1, 2]).reshape((5, 1)), np.linspace(1, 2, 5).reshape((5, 1))),\n",
        "  axis = 1\n",
        ")\n",
        "\n",
        "print(x)\n",
        "print(y)"
      ],
      "execution_count": 50,
      "outputs": [
        {
          "output_type": "stream",
          "text": [
            "[[0. 1.]\n",
            " [0. 2.]\n",
            " [0. 3.]\n",
            " [1. 4.]\n",
            " [1. 5.]]\n",
            "[[0.   1.  ]\n",
            " [1.   1.25]\n",
            " [1.   1.5 ]\n",
            " [1.   1.75]\n",
            " [2.   2.  ]]\n"
          ],
          "name": "stdout"
        }
      ]
    },
    {
      "cell_type": "code",
      "metadata": {
        "id": "JPfNGxut8zHQ",
        "colab_type": "code",
        "outputId": "940e9cdf-90b1-4895-a0bf-0956b1e784f3",
        "colab": {
          "base_uri": "https://localhost:8080/",
          "height": 34
        }
      },
      "source": [
        "k = tfp.math.psd_kernels.ExponentiatedQuadratic(\n",
        "    amplitude=0.5,\n",
        "    length_scale=1.2)\n",
        "\n",
        "k_s = tfp.math.psd_kernels.ExponentiatedQuadratic(\n",
        "    amplitude=0.7,\n",
        "    length_scale=1.7)\n",
        "\n",
        "result = k.apply(x[:,1:], y[:,1:], example_ndims=1)\n",
        "result_s = k_s.apply(x[:,1:], y[:,1:], example_ndims=1)\n",
        "inds = tf.where(x[:, 0] == y[:, 0])#[0].tolist()\n",
        "\n",
        "print(result.get_shape())"
      ],
      "execution_count": 63,
      "outputs": [
        {
          "output_type": "stream",
          "text": [
            "(5,)\n"
          ],
          "name": "stdout"
        }
      ]
    },
    {
      "cell_type": "code",
      "metadata": {
        "id": "aVsqXSt68UEH",
        "colab_type": "code",
        "colab": {
          "base_uri": "https://localhost:8080/",
          "height": 68
        },
        "outputId": "e455a614-b20d-44c6-d765-eb206c095310"
      },
      "source": [
        "inds"
      ],
      "execution_count": 64,
      "outputs": [
        {
          "output_type": "execute_result",
          "data": {
            "text/plain": [
              "<tf.Tensor: shape=(2, 1), dtype=int64, numpy=\n",
              "array([[0],\n",
              "       [3]])>"
            ]
          },
          "metadata": {
            "tags": []
          },
          "execution_count": 64
        }
      ]
    },
    {
      "cell_type": "code",
      "metadata": {
        "id": "5V5Q94fT8Zzp",
        "colab_type": "code",
        "colab": {
          "base_uri": "https://localhost:8080/",
          "height": 34
        },
        "outputId": "8bad8e92-95a7-46c0-feda-189c238c9b98"
      },
      "source": [
        "shape"
      ],
      "execution_count": 54,
      "outputs": [
        {
          "output_type": "execute_result",
          "data": {
            "text/plain": [
              "TensorShape([5])"
            ]
          },
          "metadata": {
            "tags": []
          },
          "execution_count": 54
        }
      ]
    },
    {
      "cell_type": "code",
      "metadata": {
        "id": "BF43Co6M8XOY",
        "colab_type": "code",
        "outputId": "993f7843-5b63-4f6e-c42f-393cfe31d47a",
        "colab": {
          "base_uri": "https://localhost:8080/",
          "height": 51
        }
      },
      "source": [
        "shape = result.get_shape()  # Should get this from result shape\n",
        "\n",
        "delta = tf.SparseTensor(inds, tf.gather_nd(result_s, inds), shape)\n",
        "print(tf.sparse.to_dense(delta))\n",
        "final_result = result + tf.sparse.to_dense(delta)\n",
        "print(final_result)"
      ],
      "execution_count": 52,
      "outputs": [
        {
          "output_type": "stream",
          "text": [
            "tf.Tensor([0.48999998 0.         0.         0.20408575 0.        ], shape=(5,), dtype=float32)\n",
            "tf.Tensor([0.74       0.20564438 0.11445834 0.24719116 0.01098423], shape=(5,), dtype=float32)\n"
          ],
          "name": "stdout"
        }
      ]
    },
    {
      "cell_type": "code",
      "metadata": {
        "id": "kNgHMtKE8iAw",
        "colab_type": "code",
        "colab": {
          "base_uri": "https://localhost:8080/",
          "height": 34
        },
        "outputId": "2f88d805-e29a-44a6-87e4-11abad327609"
      },
      "source": [
        "delta.get_shape()"
      ],
      "execution_count": 56,
      "outputs": [
        {
          "output_type": "execute_result",
          "data": {
            "text/plain": [
              "TensorShape([5])"
            ]
          },
          "metadata": {
            "tags": []
          },
          "execution_count": 56
        }
      ]
    },
    {
      "cell_type": "code",
      "metadata": {
        "id": "lSPl5om9BQUg",
        "colab_type": "code",
        "outputId": "2b7dbc51-b7ee-43d1-b197-159a9db764aa",
        "colab": {
          "base_uri": "https://localhost:8080/",
          "height": 34
        }
      },
      "source": [
        "k = tfp.math.psd_kernels.ExponentiatedQuadratic(\n",
        "    amplitude=[0.5, 0.7],\n",
        "    length_scale=[1.2, 2.4])\n",
        "\n",
        "k_s = tfp.math.psd_kernels.ExponentiatedQuadratic(\n",
        "    amplitude=[0.7, 1.2],\n",
        "    length_scale=[1.7, 1.3])\n",
        "\n",
        "result = k.apply(x[:,1:], y[:,1:], example_ndims=1)\n",
        "result_s = k_s.apply(x[:,1:], y[:,1:], example_ndims=1)\n",
        "inds = tf.where(x[:, 0] == y[:, 0])#[0].tolist()\n",
        "\n",
        "print(result.get_shape())"
      ],
      "execution_count": 7,
      "outputs": [
        {
          "output_type": "stream",
          "text": [
            "(2, 5)\n"
          ],
          "name": "stdout"
        }
      ]
    },
    {
      "cell_type": "code",
      "metadata": {
        "id": "OxV_Ew4UNrZj",
        "colab_type": "code",
        "colab": {
          "base_uri": "https://localhost:8080/",
          "height": 232
        },
        "outputId": "2fb1b9f0-d69b-4d86-aa74-cbb8f551c1c6"
      },
      "source": [
        "shape = result.get_shape()  # Should get this from result shape\n",
        "\n",
        "delta = tf.SparseTensor(inds, tf.gather_nd(result_s, inds), shape)\n",
        "print(tf.sparse.to_dense(delta))\n",
        "final_result = result + tf.sparse.to_dense(delta)\n",
        "print(final_result)"
      ],
      "execution_count": 1,
      "outputs": [
        {
          "output_type": "error",
          "ename": "NameError",
          "evalue": "ignored",
          "traceback": [
            "\u001b[0;31m---------------------------------------------------------------------------\u001b[0m",
            "\u001b[0;31mNameError\u001b[0m                                 Traceback (most recent call last)",
            "\u001b[0;32m<ipython-input-1-c52d5b6e6065>\u001b[0m in \u001b[0;36m<module>\u001b[0;34m()\u001b[0m\n\u001b[0;32m----> 1\u001b[0;31m \u001b[0mshape\u001b[0m \u001b[0;34m=\u001b[0m \u001b[0mresult\u001b[0m\u001b[0;34m.\u001b[0m\u001b[0mget_shape\u001b[0m\u001b[0;34m(\u001b[0m\u001b[0;34m)\u001b[0m  \u001b[0;31m# Should get this from result shape\u001b[0m\u001b[0;34m\u001b[0m\u001b[0;34m\u001b[0m\u001b[0m\n\u001b[0m\u001b[1;32m      2\u001b[0m \u001b[0;34m\u001b[0m\u001b[0m\n\u001b[1;32m      3\u001b[0m \u001b[0mdelta\u001b[0m \u001b[0;34m=\u001b[0m \u001b[0mtf\u001b[0m\u001b[0;34m.\u001b[0m\u001b[0mSparseTensor\u001b[0m\u001b[0;34m(\u001b[0m\u001b[0minds\u001b[0m\u001b[0;34m,\u001b[0m \u001b[0mtf\u001b[0m\u001b[0;34m.\u001b[0m\u001b[0mgather_nd\u001b[0m\u001b[0;34m(\u001b[0m\u001b[0mresult_s\u001b[0m\u001b[0;34m,\u001b[0m \u001b[0minds\u001b[0m\u001b[0;34m)\u001b[0m\u001b[0;34m,\u001b[0m \u001b[0mshape\u001b[0m\u001b[0;34m)\u001b[0m\u001b[0;34m\u001b[0m\u001b[0;34m\u001b[0m\u001b[0m\n\u001b[1;32m      4\u001b[0m \u001b[0mprint\u001b[0m\u001b[0;34m(\u001b[0m\u001b[0mtf\u001b[0m\u001b[0;34m.\u001b[0m\u001b[0msparse\u001b[0m\u001b[0;34m.\u001b[0m\u001b[0mto_dense\u001b[0m\u001b[0;34m(\u001b[0m\u001b[0mdelta\u001b[0m\u001b[0;34m)\u001b[0m\u001b[0;34m)\u001b[0m\u001b[0;34m\u001b[0m\u001b[0;34m\u001b[0m\u001b[0m\n\u001b[1;32m      5\u001b[0m \u001b[0mfinal_result\u001b[0m \u001b[0;34m=\u001b[0m \u001b[0mresult\u001b[0m \u001b[0;34m+\u001b[0m \u001b[0mtf\u001b[0m\u001b[0;34m.\u001b[0m\u001b[0msparse\u001b[0m\u001b[0;34m.\u001b[0m\u001b[0mto_dense\u001b[0m\u001b[0;34m(\u001b[0m\u001b[0mdelta\u001b[0m\u001b[0;34m)\u001b[0m\u001b[0;34m\u001b[0m\u001b[0;34m\u001b[0m\u001b[0m\n",
            "\u001b[0;31mNameError\u001b[0m: name 'result' is not defined"
          ]
        }
      ]
    },
    {
      "cell_type": "code",
      "metadata": {
        "id": "VyNwnvumPRlS",
        "colab_type": "code",
        "outputId": "a8e9bda7-22ab-41e0-96c4-6d8c13918935",
        "colab": {
          "base_uri": "https://localhost:8080/",
          "height": 51
        }
      },
      "source": [
        "k = tfp.math.psd_kernels.ExponentiatedQuadratic(\n",
        "    amplitude=[[0.5, 0.7], [0.2, 0.3]],\n",
        "    length_scale=[1.2, 2.4])\n",
        "\n",
        "k_s = tfp.math.psd_kernels.ExponentiatedQuadratic(\n",
        "    amplitude=[0.7, 1.2],\n",
        "    length_scale=[1.7, 1.3])\n",
        "\n",
        "k_s = tfp.math.psd_kernels.ExponentiatedQuadratic(\n",
        "    amplitude=[[0.5, 0.7], [0.2, 0.3]],\n",
        "    length_scale=[1.7, 1.3])\n",
        "\n",
        "result = k.apply(x[:,1:], y[:,1:], example_ndims=1)\n",
        "result_s = k_s.apply(x[:,1:], y[:,1:], example_ndims=1)\n",
        "inds = tf.where(x[:, 0] == y[:, 0])#[0].tolist()\n",
        "inds1 = tf.reshape(inds, (tf.shape(inds)[0],))\n",
        "\n",
        "print(result.get_shape())\n",
        "print(result_s.get_shape())"
      ],
      "execution_count": 57,
      "outputs": [
        {
          "output_type": "stream",
          "text": [
            "(2, 2, 5)\n",
            "(2, 2, 5)\n"
          ],
          "name": "stdout"
        }
      ]
    },
    {
      "cell_type": "code",
      "metadata": {
        "id": "Js6Fx5go6nRG",
        "colab_type": "code",
        "colab": {
          "base_uri": "https://localhost:8080/",
          "height": 34
        },
        "outputId": "7f001a5b-adc3-45ff-c0bd-f71a8fcc0308"
      },
      "source": [
        "inds1"
      ],
      "execution_count": 58,
      "outputs": [
        {
          "output_type": "execute_result",
          "data": {
            "text/plain": [
              "<tf.Tensor: shape=(2,), dtype=int64, numpy=array([0, 3])>"
            ]
          },
          "metadata": {
            "tags": []
          },
          "execution_count": 58
        }
      ]
    },
    {
      "cell_type": "code",
      "metadata": {
        "id": "AHXnRNhZfBPv",
        "colab_type": "code",
        "colab": {
          "base_uri": "https://localhost:8080/",
          "height": 68
        },
        "outputId": "b4e611f3-9f75-4c55-e0a0-53417a1cbd06"
      },
      "source": [
        "result"
      ],
      "execution_count": 65,
      "outputs": [
        {
          "output_type": "execute_result",
          "data": {
            "text/plain": [
              "<tf.Tensor: shape=(5,), dtype=float32, numpy=\n",
              "array([0.25      , 0.20564438, 0.11445834, 0.0431054 , 0.01098423],\n",
              "      dtype=float32)>"
            ]
          },
          "metadata": {
            "tags": []
          },
          "execution_count": 65
        }
      ]
    },
    {
      "cell_type": "code",
      "metadata": {
        "id": "jhKeqd2VfDN-",
        "colab_type": "code",
        "colab": {
          "base_uri": "https://localhost:8080/",
          "height": 68
        },
        "outputId": "18edbd22-f261-480d-90cd-45b90255e65f"
      },
      "source": [
        "result_s"
      ],
      "execution_count": 67,
      "outputs": [
        {
          "output_type": "execute_result",
          "data": {
            "text/plain": [
              "<tf.Tensor: shape=(5,), dtype=float32, numpy=\n",
              "array([0.48999998, 0.4445609 , 0.33199903, 0.20408575, 0.10326638],\n",
              "      dtype=float32)>"
            ]
          },
          "metadata": {
            "tags": []
          },
          "execution_count": 67
        }
      ]
    },
    {
      "cell_type": "code",
      "metadata": {
        "id": "fYnkPipcdb_M",
        "colab_type": "code",
        "colab": {
          "base_uri": "https://localhost:8080/",
          "height": 68
        },
        "outputId": "c36d37e4-3135-4117-ddbc-0a299c7fe7ab"
      },
      "source": [
        "inds"
      ],
      "execution_count": 66,
      "outputs": [
        {
          "output_type": "execute_result",
          "data": {
            "text/plain": [
              "<tf.Tensor: shape=(2, 1), dtype=int64, numpy=\n",
              "array([[0],\n",
              "       [3]])>"
            ]
          },
          "metadata": {
            "tags": []
          },
          "execution_count": 66
        }
      ]
    },
    {
      "cell_type": "code",
      "metadata": {
        "id": "s9DbAj216HkY",
        "colab_type": "code",
        "colab": {}
      },
      "source": [
        ""
      ],
      "execution_count": 0,
      "outputs": []
    },
    {
      "cell_type": "code",
      "metadata": {
        "id": "0Bzk97todzCl",
        "colab_type": "code",
        "colab": {}
      },
      "source": [
        "t=tf.gather(result_s, inds,axis=-1)"
      ],
      "execution_count": 0,
      "outputs": []
    },
    {
      "cell_type": "code",
      "metadata": {
        "id": "TdOW-FDHukyt",
        "colab_type": "code",
        "colab": {
          "base_uri": "https://localhost:8080/",
          "height": 68
        },
        "outputId": "dd8f5d90-8205-409c-ee33-de4db1449058"
      },
      "source": [
        "t"
      ],
      "execution_count": 70,
      "outputs": [
        {
          "output_type": "execute_result",
          "data": {
            "text/plain": [
              "<tf.Tensor: shape=(2, 1), dtype=float32, numpy=\n",
              "array([[0.48999998],\n",
              "       [0.20408575]], dtype=float32)>"
            ]
          },
          "metadata": {
            "tags": []
          },
          "execution_count": 70
        }
      ]
    },
    {
      "cell_type": "code",
      "metadata": {
        "id": "loaF4Tsm_F-2",
        "colab_type": "code",
        "colab": {}
      },
      "source": [
        "t=tf.reshape(tf.transpose(t), [-1])"
      ],
      "execution_count": 0,
      "outputs": []
    },
    {
      "cell_type": "code",
      "metadata": {
        "id": "VJtccrhMCGOS",
        "colab_type": "code",
        "colab": {
          "base_uri": "https://localhost:8080/",
          "height": 34
        },
        "outputId": "6ca726a7-d7f5-45cf-d1f7-e1240ba6ea80"
      },
      "source": [
        "t"
      ],
      "execution_count": 79,
      "outputs": [
        {
          "output_type": "execute_result",
          "data": {
            "text/plain": [
              "<tf.Tensor: shape=(2,), dtype=float32, numpy=array([0.48999998, 0.20408575], dtype=float32)>"
            ]
          },
          "metadata": {
            "tags": []
          },
          "execution_count": 79
        }
      ]
    },
    {
      "cell_type": "code",
      "metadata": {
        "id": "BSBIiJZw7o6I",
        "colab_type": "code",
        "colab": {
          "base_uri": "https://localhost:8080/",
          "height": 34
        },
        "outputId": "4515bec9-38de-4f4e-e255-cd4d59ed6b76"
      },
      "source": [
        "result.get_shape()"
      ],
      "execution_count": 80,
      "outputs": [
        {
          "output_type": "execute_result",
          "data": {
            "text/plain": [
              "TensorShape([5])"
            ]
          },
          "metadata": {
            "tags": []
          },
          "execution_count": 80
        }
      ]
    },
    {
      "cell_type": "code",
      "metadata": {
        "id": "6xe2i-LqB2ce",
        "colab_type": "code",
        "colab": {
          "base_uri": "https://localhost:8080/",
          "height": 68
        },
        "outputId": "349c5227-fa69-4966-adfc-ad8b4d0ddd4e"
      },
      "source": [
        "inds"
      ],
      "execution_count": 82,
      "outputs": [
        {
          "output_type": "execute_result",
          "data": {
            "text/plain": [
              "<tf.Tensor: shape=(2, 1), dtype=int64, numpy=\n",
              "array([[0],\n",
              "       [3]])>"
            ]
          },
          "metadata": {
            "tags": []
          },
          "execution_count": 82
        }
      ]
    },
    {
      "cell_type": "code",
      "metadata": {
        "id": "sva0JbXbf8nc",
        "colab_type": "code",
        "colab": {}
      },
      "source": [
        "shape = result.get_shape()\n",
        "\n",
        "delta=tf.SparseTensor(inds, t, shape)"
      ],
      "execution_count": 0,
      "outputs": []
    },
    {
      "cell_type": "code",
      "metadata": {
        "id": "Ysx1ngHICP_H",
        "colab_type": "code",
        "colab": {
          "base_uri": "https://localhost:8080/",
          "height": 34
        },
        "outputId": "c933b01e-824a-43f8-e7a9-44c98ca4e785"
      },
      "source": [
        "print(tf.sparse.to_dense(delta))"
      ],
      "execution_count": 85,
      "outputs": [
        {
          "output_type": "stream",
          "text": [
            "tf.Tensor([0.48999998 0.         0.         0.20408575 0.        ], shape=(5,), dtype=float32)\n"
          ],
          "name": "stdout"
        }
      ]
    },
    {
      "cell_type": "code",
      "metadata": {
        "id": "zHTyX90BR3mq",
        "colab_type": "code",
        "colab": {}
      },
      "source": [
        "inds.numpy().squeeze().tolist()"
      ],
      "execution_count": 0,
      "outputs": []
    },
    {
      "cell_type": "code",
      "metadata": {
        "id": "JbNl7CkFPaXC",
        "colab_type": "code",
        "colab": {}
      },
      "source": [
        "result[:,:,0]"
      ],
      "execution_count": 0,
      "outputs": []
    },
    {
      "cell_type": "code",
      "metadata": {
        "id": "PD7EVWEBQIeT",
        "colab_type": "code",
        "colab": {}
      },
      "source": [
        "tf.gather_nd(result, inds[tf.newaxis, tf.newaxis, :, 0], batch_dims=2)"
      ],
      "execution_count": 0,
      "outputs": []
    },
    {
      "cell_type": "code",
      "metadata": {
        "id": "cOKn3_zaUXLR",
        "colab_type": "code",
        "outputId": "50ce3dba-73dd-43be-d7c0-34dad7bf7340",
        "colab": {
          "base_uri": "https://localhost:8080/",
          "height": 136
        }
      },
      "source": [
        "result"
      ],
      "execution_count": 10,
      "outputs": [
        {
          "output_type": "execute_result",
          "data": {
            "text/plain": [
              "<tf.Tensor: shape=(2, 2, 5), dtype=float32, numpy=\n",
              "array([[[0.25      , 0.2056444 , 0.11445834, 0.0431054 , 0.01098423],\n",
              "        [0.48999998, 0.46664894, 0.403063  , 0.31575045, 0.22433837]],\n",
              "\n",
              "       [[0.04      , 0.0329031 , 0.01831333, 0.00689686, 0.00175748],\n",
              "        [0.09      , 0.08571103, 0.07403198, 0.05799498, 0.041205  ]]],\n",
              "      dtype=float32)>"
            ]
          },
          "metadata": {
            "tags": []
          },
          "execution_count": 10
        }
      ]
    },
    {
      "cell_type": "code",
      "metadata": {
        "id": "Blali8cWVDvL",
        "colab_type": "code",
        "colab": {}
      },
      "source": [
        "inds[tf.newaxis, tf.newaxis, :, 0]"
      ],
      "execution_count": 0,
      "outputs": []
    },
    {
      "cell_type": "code",
      "metadata": {
        "id": "g0UtLdxJVmYl",
        "colab_type": "code",
        "colab": {}
      },
      "source": [
        "inds[:,0]"
      ],
      "execution_count": 0,
      "outputs": []
    },
    {
      "cell_type": "code",
      "metadata": {
        "id": "PR4aBqfkV5q1",
        "colab_type": "code",
        "colab": {}
      },
      "source": [
        "indices = [[tf.newaxis,tf.newaxis,0],[tf.newaxis,tf.newaxis,3]]\n",
        "tf.gather_nd(result,indices)"
      ],
      "execution_count": 0,
      "outputs": []
    }
  ]
}